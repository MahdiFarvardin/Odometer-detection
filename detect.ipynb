{
 "cells": [
  {
   "cell_type": "markdown",
   "id": "923c4760-3e23-46d9-bd24-dd03ecdcda8b",
   "metadata": {},
   "source": [
    "# convert to YOLO format"
   ]
  },
  {
   "cell_type": "code",
   "execution_count": 6,
   "id": "95d96572-a364-44af-9955-78f358872b11",
   "metadata": {},
   "outputs": [],
   "source": [
    "import torch\n",
    "from ultralytics import YOLO\n",
    "import cv2\n",
    "from IPython.display import display, Image\n",
    "import matplotlib.pyplot as plt\n",
    "import pytesseract\n",
    "from PIL import Image\n",
    "import os\n",
    "import easyocr\n",
    "import numpy as np"
   ]
  },
  {
   "cell_type": "markdown",
   "id": "ffb1bf5b-9fad-4380-be5d-1cd42cca29c4",
   "metadata": {},
   "source": [
    "**To run the code, first run the next cell, then run the odometer_reader method (cell after that), and then after setting the path to the test images folder and weights, run the last cell.**\n",
    "\n",
    "\n",
    "Methods of this project:\n",
    "* crop_odometer_with_highest_confidence\n",
    "   - *To crop the odometer with the highest condidence*\n",
    "* reduce_noise\n",
    "   - *Using morphology to reduce noise*\n",
    "* preprocess_image\n",
    "   - *preprocessing the cropped image (gray, binary, reduce noise)*\n",
    "* extract_odometer_reading\n",
    "   - *Runs the OCR on the cropped image to extract the numeric results*\n",
    "* process_images\n",
    "   - *reads the images and call gives the results*\n"
   ]
  },
  {
   "cell_type": "code",
   "execution_count": 8,
   "id": "4395249b-9516-4dac-9e64-870673e9f9a2",
   "metadata": {},
   "outputs": [],
   "source": [
    "def crop_odometer_with_highest_confidence(image, results):\n",
    "    max_confidence = -1\n",
    "    best_bbox = None\n",
    "    for result in results:\n",
    "        for box in result.boxes:\n",
    "            confidence = box.conf\n",
    "            if confidence > max_confidence:\n",
    "                max_confidence = confidence\n",
    "                x1, y1, x2, y2 = map(int, box.xyxy[0])\n",
    "                cropped_image = image[y1:y2, x1:x2]\n",
    "                best_bbox = (cropped_image, (x1, y1, x2, y2))\n",
    "    return best_bbox\n",
    "def reduce_noise(image):\n",
    "    kernel = cv2.getStructuringElement(cv2.MORPH_RECT, (1, 1))\n",
    "    return cv2.morphologyEx(image, cv2.MORPH_OPEN, kernel)\n",
    "\n",
    "def preprocess_image(image):\n",
    "    gray = cv2.cvtColor(image, cv2.COLOR_BGR2GRAY)\n",
    "    _, thresh = cv2.threshold(gray, 128, 255, cv2.THRESH_BINARY + cv2.THRESH_OTSU)\n",
    "    # kernel = np.ones((10,10), np.uint8)\n",
    "    # opening = cv2.morphologyEx(image, cv2.MORPH_OPEN, kernel)\n",
    "    # Closing (dilation followed by erosion)\n",
    "    # closing = cv2.morphologyEx(image, cv2.MORPH_CLOSE, kernel)\n",
    "    denoised = reduce_noise(thresh)\n",
    "    # plt.imshow(denoised)\n",
    "    # plt.show()\n",
    "    return denoised\n",
    "\n",
    "def extract_odometer_reading(cropped_image, reader):\n",
    "    preprocessed_image = preprocess_image(cropped_image)\n",
    "    \n",
    "    # Run OCR\n",
    "    results = reader.readtext(preprocessed_image, min_size=2)\n",
    "    \n",
    "    # We only need numeric output, so we filter the output to get the numeric results only\n",
    "    numeric_results = []\n",
    "    for res in results:\n",
    "        text = res[1]\n",
    "        numeric_text = ''.join(filter(str.isdigit, text))\n",
    "        if numeric_text:\n",
    "            numeric_results.append(numeric_text)\n",
    "    \n",
    "    return numeric_results\n",
    "\n",
    "def process_images(image_dir, model, reader):\n",
    "    \n",
    "    image_files = [os.path.join(image_dir, img) for img in os.listdir(image_dir) if (img.endswith('.jpeg') or img.endswith('.jpg'))]\n",
    "    \n",
    "    for image_path in image_files:\n",
    "        image = cv2.imread(image_path, cv2.IMREAD_COLOR)\n",
    "    \n",
    "        if image is None:\n",
    "            print(f\"Failed to load image: {image_path}\")\n",
    "            continue\n",
    "        \n",
    "        results = model(image, save=False)\n",
    "        \n",
    "        # Convert image from BGR to RGB for displaying\n",
    "        image_rgb = cv2.cvtColor(image, cv2.COLOR_BGR2RGB)\n",
    "        \n",
    "        # choose the odometer with the highest condidence (CUZ there might be multiple boxes in one image and we only need one)\n",
    "        best_crop_bbox = crop_odometer_with_highest_confidence(image, results)\n",
    "        if best_crop_bbox:\n",
    "            cropped_image, bbox = best_crop_bbox\n",
    "            odometer_readings = extract_odometer_reading(cropped_image, reader)\n",
    "            \n",
    "            for reading in odometer_readings:\n",
    "                if (reading == \"\"):\n",
    "                    print(f'Odometer reading for {image_path}: can\"t read')\n",
    "                else:\n",
    "                    print(f'Odometer reading for {image_path}: {reading}')\n",
    "        \n",
    "        # Display the image with bounding box\n",
    "        x1, y1, x2, y2 = bbox\n",
    "        cv2.rectangle(image_rgb, (x1, y1), (x2, y2), (0, 255, 0), 2)\n",
    "        plt.imshow(image_rgb)\n",
    "        plt.show()"
   ]
  },
  {
   "cell_type": "code",
   "execution_count": 7,
   "id": "2282263f-372a-4916-a83b-9af1b6dccd7e",
   "metadata": {},
   "outputs": [],
   "source": [
    "def odometer_reader(image_dir, model_path):\n",
    "    model = YOLO(model_path)\n",
    "    reader = reader = easyocr.Reader(['en'])\n",
    "    process_images(image_dir, model, reader)"
   ]
  },
  {
   "cell_type": "code",
   "execution_count": null,
   "id": "21e76e04-facc-4d5e-a971-2c384cb42609",
   "metadata": {},
   "outputs": [],
   "source": [
    "img_dir = \"imagefolderpath\" # path to the test folder (which contains images from dashboards)\n",
    "model_path = \"weights\\last.pt\" # path to the weights of the model\n",
    "odometer_reader(img_dir,model_path)"
   ]
  }
 ],
 "metadata": {
  "kernelspec": {
   "display_name": "Python 3 (ipykernel)",
   "language": "python",
   "name": "python3"
  },
  "language_info": {
   "codemirror_mode": {
    "name": "ipython",
    "version": 3
   },
   "file_extension": ".py",
   "mimetype": "text/x-python",
   "name": "python",
   "nbconvert_exporter": "python",
   "pygments_lexer": "ipython3",
   "version": "3.9.19"
  }
 },
 "nbformat": 4,
 "nbformat_minor": 5
}
